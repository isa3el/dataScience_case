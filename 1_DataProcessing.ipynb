{
 "cells": [
  {
   "cell_type": "markdown",
   "metadata": {
    "application/vnd.databricks.v1+cell": {
     "cellMetadata": {
      "byteLimit": 2048000,
      "rowLimit": 10000
     },
     "inputWidgets": {},
     "nuid": "22b790c2-36e0-47c8-890c-cbf5cac6ee92",
     "showTitle": false,
     "tableResultSettingsMap": {},
     "title": ""
    }
   },
   "source": [
    "# Customer, Offer and Transaction Analysis\n",
    "\n",
    "# Objective\n",
    "The goal of this analysis is to explore customer behavior, offer interactions, and transactions patterns to derive insights that could improve targeting and engagement strategies.\n",
    "\n",
    "\n",
    "### Dataset Overview\n",
    "\n",
    "- **offers_df**: Contains details like `offer_type`, `min_value`, `duration`, `discount_value`\n",
    "- **profile_df**: Customer demographics such as `age`, `gender`, `credit_card_limit`, and registration date\n",
    "- **transactions_df**: Event logs including transactions and offer interactions\n",
    "\n",
    "---\n",
    "This notebook is structured as follows: \n",
    "1. Processing offers.json \n",
    "2. Processing profile.json \n",
    "3. Processing transactions.json \n",
    "4. Unifying datasets\n",
    "5. Feature engineering\n",
    "6. Preparing Training dataset\n",
    "\n",
    "\n",
    "---\n",
    "\n",
    "# Exploratory Data Analysis (EDA)\n",
    "\n",
    "# Offers\n",
    "- Distribution of `offer_type`\n",
    "- Histograms of `min_value`, `discount_value`, `duration`\n",
    "- Channels used for distribution\n",
    "\n",
    "# Customers\n",
    "- Distribution of `gender`, `age`, and `credit_card_limit`\n",
    "- Outlier detection (e.g., customers over 100 years old or unknown credit limits)\n",
    "- Age group segmentation\n",
    "\n",
    "# Transactions\n",
    "- Event counts by type\n",
    "- Distribution of `amount` and `reward`\n",
    "- Transaction volume vs. time\n",
    "\n",
    "---\n",
    "\n",
    "# Behavioral Analysis\n",
    "\n",
    "# Offer Conversion Funnel\n",
    "- Offer Received → Viewed → Completed analysis\n",
    "- Conversion rate calculation and pie chart\n",
    "\n",
    "# Time to Completion\n",
    "- Histogram of `time_to_complete`\n",
    "- Average days to complete an offer\n",
    "\n",
    "# Spending and Analysis\n",
    "- Average `total_spent` for users who completed vs. did not complete offers\n",
    "- Bar plot comparison\n",
    "- Pearson correlation matrix for numerical variables\n",
    "\n",
    "---\n",
    "\n",
    "# Insights and Recommendations\n",
    "\n",
    "- Over **58% of received offers** were completed — strong user engagement.\n",
    "- Users who **complete offers spend significantly more** (~3x on average).\n",
    "- `reward` and `discount_value` are duplicates and should not be used together.\n",
    "- Age and credit card limit are moderately correlated (r ≈ 0.41).\n",
    "- No significant linear correlation between account age and engagement.\n",
    "\n",
    "---"
   ]
  },
  {
   "cell_type": "code",
   "execution_count": 0,
   "metadata": {
    "application/vnd.databricks.v1+cell": {
     "cellMetadata": {
      "byteLimit": 2048000,
      "rowLimit": 10000
     },
     "collapsed": true,
     "inputWidgets": {},
     "nuid": "29c590f5-02d1-4534-8890-d0c019348c0c",
     "showTitle": false,
     "tableResultSettingsMap": {},
     "title": ""
    }
   },
   "outputs": [],
   "source": [
    "# Numerical computing and data manipulation\n",
    "import numpy as np\n",
    "import pandas as pd\n",
    "\n",
    "# Plotting and visualization\n",
    "import matplotlib.pyplot as plt\n",
    "import seaborn as sns\n",
    "\n",
    "# Statistical tests\n",
    "from scipy.stats import pearsonr, spearmanr\n",
    "\n",
    "# PySpark core and utilities\n",
    "from pyspark.sql import SparkSession\n",
    "from pyspark.sql.functions import (\n",
    "    col, explode, when, to_date, from_unixtime, round, coalesce,\n",
    "    current_date, datediff, sum, count, expr, size, collect_set, avg, lit\n",
    ")\n",
    "from pyspark.sql.types import (\n",
    "    StructType, StructField, StringType, IntegerType, FloatType, ArrayType\n",
    ")\n",
    "from pyspark.sql.window import Window\n",
    "\n",
    "# iFood brand color palette\n",
    "ifood_palette = {\n",
    "    \"light_pink\":      \"#F49484\",\n",
    "    \"mid_pink\":        \"#FB8B9C\",\n",
    "    \"coral\":           \"#E4737B\",\n",
    "    \"pink\":            \"#DA5265\",\n",
    "    \"ifood_red\":       \"#EA1D2C\",\n",
    "    \"dark_red\":        \"#BB303E\",\n",
    "    \"highlight_green\": \"#63B76C\",\n",
    "    \"black\":           \"#333333\"\n",
    "}\n"
   ]
  },
  {
   "cell_type": "code",
   "execution_count": 0,
   "metadata": {
    "application/vnd.databricks.v1+cell": {
     "cellMetadata": {
      "byteLimit": 2048000,
      "rowLimit": 10000
     },
     "inputWidgets": {},
     "nuid": "c39ae141-c310-4eef-89f7-bb62797f333c",
     "showTitle": false,
     "tableResultSettingsMap": {},
     "title": ""
    }
   },
   "outputs": [],
   "source": [
    "# Reading datasets\n",
    "offers_df = spark.read.json(\"/Volumes/workspace/default/data/offers.json\")\n",
    "profile_df = spark.read.json(\"/Volumes/workspace/default/data/profile.json\")\n",
    "transactions_df = spark.read.json(\"/Volumes/workspace/default/data/transactions.json\")\n",
    "\n"
   ]
  },
  {
   "cell_type": "markdown",
   "metadata": {
    "application/vnd.databricks.v1+cell": {
     "cellMetadata": {
      "byteLimit": 2048000,
      "rowLimit": 10000
     },
     "inputWidgets": {},
     "nuid": "5c837ace-18bc-4b8a-8e86-ad07e82d5a51",
     "showTitle": false,
     "tableResultSettingsMap": {},
     "title": ""
    }
   },
   "source": [
    "### 1. Processing **offers.json**\n",
    "\n",
    "This dataset contains metadata for each marketing offer available in the platform.\n",
    "\n",
    "**Steps performed:**\n",
    "\n",
    "1. **Reading and visualizing table**: First rows were visualized for inspection.\n",
    "2. **Column renaming**: The original `id` column was renamed to `offer_id` to allow proper joining with the transactional data using `offer_id` as the key.\n",
    "3. **Exploratory Data Analysis**:\n",
    "   - Plotted **category distribution** to understand the frequency of different offer strategies.\n",
    "   - Created **boxplots** for numerical features to identify spread, typical ranges, and potential outliers.\n"
   ]
  },
  {
   "cell_type": "code",
   "execution_count": 0,
   "metadata": {
    "application/vnd.databricks.v1+cell": {
     "cellMetadata": {
      "byteLimit": 2048000,
      "rowLimit": 10000
     },
     "inputWidgets": {},
     "nuid": "6cc60830-ba45-4843-8a45-223ff343e2b5",
     "showTitle": false,
     "tableResultSettingsMap": {},
     "title": ""
    }
   },
   "outputs": [],
   "source": [
    "offers_df.display()"
   ]
  },
  {
   "cell_type": "code",
   "execution_count": 0,
   "metadata": {
    "application/vnd.databricks.v1+cell": {
     "cellMetadata": {
      "byteLimit": 2048000,
      "rowLimit": 10000
     },
     "inputWidgets": {},
     "nuid": "30c2e21e-d08b-4546-8baa-141e3e1adf04",
     "showTitle": false,
     "tableResultSettingsMap": {},
     "title": ""
    }
   },
   "outputs": [],
   "source": [
    "# summary of offers dataset\n",
    "offers_df.describe().show()\n",
    "\n",
    "offers_df.select(explode(\"channels\").alias(\"channel\")) \\\n",
    "         .groupBy(\"channel\").count() \\\n",
    "         .orderBy(\"count\", ascending=False) \\\n",
    "         .show()\n"
   ]
  },
  {
   "cell_type": "code",
   "execution_count": 0,
   "metadata": {
    "application/vnd.databricks.v1+cell": {
     "cellMetadata": {
      "byteLimit": 2048000,
      "rowLimit": 10000
     },
     "inputWidgets": {},
     "nuid": "0373fa06-2248-4c70-b4f5-7a425173c123",
     "showTitle": false,
     "tableResultSettingsMap": {},
     "title": ""
    }
   },
   "outputs": [],
   "source": [
    "# Plotting each column distribution \n",
    "offers_pd = offers_df.toPandas()\n",
    "fig, axes = plt.subplots(2, 2, figsize=(14, 8))\n",
    "fig.suptitle(\"Distributions of Offer Attributes\", fontsize=16, color=ifood_palette[\"black\"])\n",
    "\n",
    "# Plot 1: offer_type (categorical) \n",
    "sns.countplot(data=offers_pd, x=\"offer_type\", \n",
    "              color=ifood_palette[\"light_pink\"],\n",
    "              ax=axes[0, 0])\n",
    "axes[0, 0].set_title(\"offer_type (Categorical)\", color=ifood_palette[\"black\"])\n",
    "axes[0, 0].set_yticks(np.arange(0, 5, 1))  \n",
    "\n",
    "# Plot 2: min_value (numeric)  \n",
    "sns.histplot(offers_pd[\"min_value\"], \n",
    "             bins=[0, 5, 10, 15, 20, 25],\n",
    "             kde=True,\n",
    "             ax=axes[0, 1],\n",
    "             color=ifood_palette[\"mid_pink\"], edgecolor=ifood_palette[\"dark_red\"])\n",
    "\n",
    "axes[0, 1].set_title(\"min_value (Numeric)\", color=ifood_palette[\"black\"])\n",
    "axes[0, 1].set_xticks(np.arange(0, 21, 5))\n",
    "axes[0, 1].set_yticks(np.arange(0, 5, 1))\n",
    "\n",
    "# Plot 3: discount_value (numeric)\n",
    "sns.histplot(offers_pd[\"discount_value\"], ax=axes[1, 0], color=ifood_palette[\"coral\"], edgecolor=ifood_palette[\"dark_red\"])\n",
    "axes[1, 0].set_title(\"discount_value (Numeric)\", color=ifood_palette[\"black\"])\n",
    "axes[1, 0].set_xticks(np.arange(0, 11, 2)) \n",
    "axes[1, 0].set_yticks(np.arange(0, 4, 1))  \n",
    "\n",
    "# Plot 4: channels (categorical list) ''\n",
    "channels_exploded_df = offers_df.select(explode(\"channels\").alias(\"channel\"))\n",
    "channels_exploded = channels_exploded_df.toPandas()[\"channel\"]\n",
    "sns.countplot(x=channels_exploded, ax=axes[1, 1], color=ifood_palette[\"pink\"])\n",
    "axes[1, 1].set_title(\"channels (List)\", color=ifood_palette[\"black\"])\n",
    "\n",
    "\n",
    "# Axis and details adjustments\n",
    "for ax in axes.flat:\n",
    "    ax.set_xlabel(ax.get_xlabel(), color=ifood_palette[\"black\"])\n",
    "    ax.set_ylabel(ax.get_ylabel(), color=ifood_palette[\"black\"])\n",
    "    ax.tick_params(colors=ifood_palette[\"black\"])\n",
    "    ax.spines['top'].set_visible(False)\n",
    "    ax.spines['right'].set_visible(False)\n",
    "\n",
    "# Layout final e salvamento\n",
    "plt.tight_layout(rect=[0, 0.03, 1, 0.95])\n",
    "plt.show()\n"
   ]
  },
  {
   "cell_type": "code",
   "execution_count": 0,
   "metadata": {
    "application/vnd.databricks.v1+cell": {
     "cellMetadata": {
      "byteLimit": 2048000,
      "rowLimit": 10000
     },
     "inputWidgets": {},
     "nuid": "ce6f4ebb-bd0e-493d-a48e-2b9b9ee12e13",
     "showTitle": false,
     "tableResultSettingsMap": {},
     "title": ""
    }
   },
   "outputs": [],
   "source": [
    "# Plotting boxplot\n",
    "fig, axes = plt.subplots(1, 3, figsize=(18, 5))\n",
    "fig.suptitle(\"Boxplots of Offers by Type\", fontsize=16, color=ifood_palette[\"black\"])\n",
    "\n",
    "# Boxplot 1: min_value vs offer_type\n",
    "sns.boxplot(data=offers_pd, x=\"offer_type\", y=\"min_value\", ax=axes[0], color=ifood_palette[\"light_pink\"])\n",
    "axes[0].set_title(\"Min Order Value by Offer Type\", color=ifood_palette[\"black\"])\n",
    "\n",
    "# Boxplot 2: discount_value vs offer_type\n",
    "sns.boxplot(data=offers_pd, x=\"offer_type\", y=\"discount_value\", ax=axes[1], color=ifood_palette[\"coral\"])\n",
    "axes[1].set_title(\"Discount Value by Offer Type\", color=ifood_palette[\"black\"])\n",
    "\n",
    "# Boxplot 3: duration vs offer_type\n",
    "sns.boxplot(data=offers_pd, x=\"offer_type\", y=\"duration\", ax=axes[2], color=ifood_palette[\"dark_red\"])\n",
    "axes[2].set_title(\"Duration by Offer Type\", color=ifood_palette[\"black\"])\n",
    "\n",
    "\n",
    "for ax in axes:\n",
    "    ax.set_xlabel(\"Offer Type\", color=ifood_palette[\"black\"])\n",
    "    ax.set_ylabel(ax.get_ylabel(), color=ifood_palette[\"black\"])\n",
    "    ax.tick_params(colors=ifood_palette[\"black\"])\n",
    "    ax.spines['top'].set_visible(False)\n",
    "    ax.spines['right'].set_visible(False)\n",
    "\n",
    "plt.tight_layout(rect=[0, 0.03, 1, 0.95])\n",
    "plt.show()\n"
   ]
  },
  {
   "cell_type": "code",
   "execution_count": 0,
   "metadata": {
    "application/vnd.databricks.v1+cell": {
     "cellMetadata": {
      "byteLimit": 2048000,
      "rowLimit": 10000
     },
     "inputWidgets": {},
     "nuid": "beca5eff-a996-4ce9-8345-d799b19c2cd0",
     "showTitle": false,
     "tableResultSettingsMap": {},
     "title": ""
    }
   },
   "outputs": [],
   "source": [
    "offers_df = offers_df.withColumnRenamed(\"id\", \"offer_id\")\n",
    "\n",
    "# # Saving file \n",
    "(\n",
    "    offers_df\n",
    "    .coalesce(1)                  \n",
    "    .write\n",
    "    .mode(\"overwrite\")\n",
    "    .json(\"/Volumes/workspace/default/data/offers_processed.json\")\n",
    ")"
   ]
  },
  {
   "cell_type": "markdown",
   "metadata": {
    "application/vnd.databricks.v1+cell": {
     "cellMetadata": {
      "byteLimit": 2048000,
      "rowLimit": 10000
     },
     "inputWidgets": {},
     "nuid": "15883d4f-701c-40ac-b735-b53f83da1808",
     "showTitle": false,
     "tableResultSettingsMap": {},
     "title": ""
    }
   },
   "source": [
    "### 2. Processing **profile.json**\n",
    "\n",
    "This dataset contains demographic and financial information about approximately 17,000 customers.\n",
    "\n",
    "**Steps performed:**\n",
    "\n",
    "1. **Reading and inspecting the data**: Displayed summary statistics and null distributions.\n",
    "\n",
    "2. **Data cleaning**:\n",
    "   - Parsed `registered_on`, converted it to date format, and calculated `account_age_years`.\n",
    "   - Handled missing values and outliers:\n",
    "      - Filled missing `gender` values with `\"not_specified\"`.\n",
    "      - Replaced missing or invalid credit card limits with the placeholder value `1`.\n",
    "      - Identified and flagged outlier ages (e.g., `age > 100`).\n",
    "\n",
    "3. **Grouping variables for visualization**:\n",
    "   - Created grouped variables to facilitate analysis:\n",
    "     - `age_group`: binned ages into custom age ranges.\n",
    "     - `credit_limit_group`: binned credit card limits into income-like ranges.\n",
    "\n",
    "4. **Exploratory analysis**:\n",
    "   - Plotted categorical distributions (e.g., gender, age group, credit limit group).\n",
    "   - Created boxplots comparing account age and credit limits across demographic groups.\n",
    "   - Computed Pearson correlations between key numerical variables to assess linear relationships.\n"
   ]
  },
  {
   "cell_type": "code",
   "execution_count": 0,
   "metadata": {
    "application/vnd.databricks.v1+cell": {
     "cellMetadata": {
      "byteLimit": 2048000,
      "rowLimit": 10000
     },
     "inputWidgets": {},
     "nuid": "6c4d5a49-214a-492a-84c6-4fd225d0db6b",
     "showTitle": false,
     "tableResultSettingsMap": {},
     "title": ""
    }
   },
   "outputs": [],
   "source": [
    "profile_df.display()"
   ]
  },
  {
   "cell_type": "code",
   "execution_count": 0,
   "metadata": {
    "application/vnd.databricks.v1+cell": {
     "cellMetadata": {
      "byteLimit": 2048000,
      "rowLimit": 10000
     },
     "inputWidgets": {},
     "nuid": "c6266de0-2ace-4708-85db-e5f9ac53cfe9",
     "showTitle": false,
     "tableResultSettingsMap": {},
     "title": ""
    }
   },
   "outputs": [],
   "source": [
    "profile_df.describe().show()"
   ]
  },
  {
   "cell_type": "code",
   "execution_count": 0,
   "metadata": {
    "application/vnd.databricks.v1+cell": {
     "cellMetadata": {
      "byteLimit": 2048000,
      "rowLimit": 10000
     },
     "inputWidgets": {},
     "nuid": "76223c17-c6c1-4839-87e5-a3ea7d9a2c29",
     "showTitle": false,
     "tableResultSettingsMap": {},
     "title": ""
    }
   },
   "outputs": [],
   "source": [
    "# Outlier Detection Section\n",
    "\n",
    "profile_df = profile_df.withColumn(\"outlier_age\", col(\"age\") > 100)\n",
    "profile_df = profile_df.fillna({\"gender\": \"not_specified\"})\n",
    "profile_df = profile_df.fillna({\"credit_card_limit\": 1})\n",
    "\n",
    "df_outliers = profile_df.filter(\n",
    "    (col(\"outlier_age\") == True) |\n",
    "    (col(\"gender\") == \"not_specified\") |\n",
    "    (col(\"credit_card_limit\") == 1)\n",
    ")"
   ]
  },
  {
   "cell_type": "code",
   "execution_count": 0,
   "metadata": {
    "application/vnd.databricks.v1+cell": {
     "cellMetadata": {
      "byteLimit": 2048000,
      "rowLimit": 10000
     },
     "inputWidgets": {},
     "nuid": "2fe618de-37f5-4314-9d07-12c390025464",
     "showTitle": false,
     "tableResultSettingsMap": {},
     "title": ""
    }
   },
   "outputs": [],
   "source": [
    "profile_df = profile_df.withColumnRenamed(\"id\", \"account_id\")\n",
    "\n",
    "profile_df.select(\n",
    "    sum(col(\"outlier_age\").cast(\"int\")).alias(\"n_outlier_age\"),\n",
    "    sum((col(\"gender\") == \"not_specified\").cast(\"int\")).alias(\"n_missing_gender\"),\n",
    "    sum((col(\"credit_card_limit\") == 1).cast(\"int\")).alias(\"n_missing_credit_limit\")\n",
    ").show()"
   ]
  },
  {
   "cell_type": "code",
   "execution_count": 0,
   "metadata": {
    "application/vnd.databricks.v1+cell": {
     "cellMetadata": {
      "byteLimit": 2048000,
      "rowLimit": 10000
     },
     "inputWidgets": {},
     "nuid": "309750f2-4426-42f7-9627-f67ceae06928",
     "showTitle": false,
     "tableResultSettingsMap": {},
     "title": ""
    }
   },
   "outputs": [],
   "source": [
    "# Create binary flags for each data quality condition\n",
    "df_flags = profile_df.select(\n",
    "    \"account_id\",\n",
    "    (col(\"outlier_age\") == True).cast(\"int\").alias(\"is_outlier_age\"),\n",
    "    (col(\"gender\") == \"not_specified\").cast(\"int\").alias(\"is_missing_gender\"),\n",
    "    (col(\"credit_card_limit\") == 1).cast(\"int\").alias(\"is_missing_credit\")\n",
    ")\n",
    "\n",
    "# count occurrences by groups\n",
    "intersection_df = (\n",
    "    df_flags\n",
    "    .groupBy(\"is_outlier_age\", \"is_missing_gender\", \"is_missing_credit\")\n",
    "    .count()\n",
    "    .orderBy(\"count\", ascending=False)\n",
    ")\n",
    "\n",
    "display(intersection_df)\n",
    "\n",
    "# 2175 users are missing both gender and credit card limit values — the most common issue.\n",
    "# 5 users have all three problems simultaneously: age > 100, missing gender, and credit card limit = 1.\n",
    "# 14,820 users (87,18% of dataset) do not exhibit any of the flagged conditions — this is the clean majority of the dataset.\n"
   ]
  },
  {
   "cell_type": "code",
   "execution_count": 0,
   "metadata": {
    "application/vnd.databricks.v1+cell": {
     "cellMetadata": {
      "byteLimit": 2048000,
      "rowLimit": 10000
     },
     "collapsed": true,
     "inputWidgets": {},
     "nuid": "3b2e8db0-a24d-4304-b5fe-74c85382ce81",
     "showTitle": false,
     "tableResultSettingsMap": {},
     "title": ""
    }
   },
   "outputs": [],
   "source": [
    "# CAlculate time in app in years\n",
    "profile_df = profile_df.withColumn(\"registered_on_date\", to_date(col(\"registered_on\").cast(\"string\"), \"yyyyMMdd\"))\n",
    "profile_df = profile_df.withColumn(\"account_age_years\", round(datediff(current_date(), col(\"registered_on_date\")) / 365,2))\n",
    "profile_df = profile_df.drop(\"registered_on\")\n",
    "\n",
    "profile_df = profile_df.withColumn(\n",
    "    \"account_age_group\",\n",
    "    when(col(\"account_age_years\") <= 0.082, \"0–30 dias\")\n",
    "    .when(col(\"account_age_years\") <= 0.493, \"31–180 dias\")\n",
    "    .when(col(\"account_age_years\") <= 1.0, \"181–365 dias\")\n",
    "    .when(col(\"account_age_years\") <= 2.0, \"1–2 anos\")\n",
    "    .when(col(\"account_age_years\") <= 5.0, \"2–5 anos\")\n",
    "    .otherwise(\"+5 anos\")\n",
    ")\n",
    "\n",
    "# Create age group categories for analysis and visualization\n",
    "profile_df = profile_df.withColumn(\n",
    "    \"age_group\",\n",
    "    when((col(\"age\") >= 18) & (col(\"age\") <= 30), \"18-30\")\n",
    "    .when((col(\"age\") <= 40), \"31-40\")\n",
    "    .when((col(\"age\") <= 50), \"41-50\")\n",
    "    .when((col(\"age\") <= 60), \"51-60\")\n",
    "    .when((col(\"age\") <= 70), \"61-70\")\n",
    "    .when((col(\"age\") <= 80), \"71-80\")\n",
    "    .otherwise(\"80+\")\n",
    ")\n",
    "\n",
    "# Group credit card limit\n",
    "profile_df = profile_df.withColumn(\n",
    "    \"credit_limit_group\",\n",
    "    when(col(\"credit_card_limit\") == 1, \"unknown\")\n",
    "    .when(col(\"credit_card_limit\") <= 10000, \"≤10K\")\n",
    "    .when(col(\"credit_card_limit\") <= 20000, \"10K–20K\")\n",
    "    .when(col(\"credit_card_limit\") <= 30000, \"20K–30K\")\n",
    "    .when(col(\"credit_card_limit\") <= 40000, \"30K–40K\")\n",
    "    .when(col(\"credit_card_limit\") <= 50000, \"40K–50K\")\n",
    "    .when(col(\"credit_card_limit\") <= 60000, \"50K–60K\")\n",
    "    .when(col(\"credit_card_limit\") <= 80000, \"60K–80K\")\n",
    "    .when(col(\"credit_card_limit\") <= 100000, \"80K–100K\")\n",
    "    .when(col(\"credit_card_limit\") <= 120000, \"100K–120K\")\n",
    "    .otherwise(\"120K+\")\n",
    ")"
   ]
  },
  {
   "cell_type": "code",
   "execution_count": 0,
   "metadata": {
    "application/vnd.databricks.v1+cell": {
     "cellMetadata": {
      "byteLimit": 2048000,
      "rowLimit": 10000
     },
     "collapsed": true,
     "inputWidgets": {},
     "nuid": "76920932-7c27-431d-a011-2940dad2f31c",
     "showTitle": false,
     "tableResultSettingsMap": {},
     "title": ""
    }
   },
   "outputs": [],
   "source": [
    "profile_pd = profile_df.toPandas()\n",
    "\n",
    "\n",
    "fig, axes = plt.subplots(3, 2, figsize=(16, 12))\n",
    "fig.suptitle(\"Distributions of Profile Attributes\", fontsize=16, color=ifood_palette[\"black\"])\n",
    "\n",
    "# Plot 1: credit_limit_group (categorized)\n",
    "order = [\"unknown\", \"≤10K\", \"10K–20K\", \"20K–30K\", \"30K–40K\", \"40K–50K\", \"50K–60K\", \"60K–80K\", \"80K–100K\", \"100K–120K\", \"120K+\"]\n",
    "valid_counts = profile_pd[\"credit_limit_group\"].value_counts().sort_index()\n",
    "valid_order = [group for group in order if group in valid_counts.index]\n",
    "\n",
    "sns.countplot(\n",
    "    data=profile_pd,\n",
    "    x=\"credit_limit_group\",\n",
    "    order=valid_order,\n",
    "    ax=axes[0, 0],\n",
    "    color=ifood_palette[\"light_pink\"]\n",
    ")\n",
    "axes[0, 0].set_title(\"Credit Card Limit\", color=ifood_palette[\"black\"])\n",
    "axes[0, 0].set_xlabel(\"Credit Limit Group\", color=ifood_palette[\"black\"])\n",
    "axes[0, 0].set_ylabel(\"Count\", color=ifood_palette[\"black\"])\n",
    "axes[0, 0].tick_params(colors=ifood_palette[\"black\"])\n",
    "for container in axes[0,0].containers:\n",
    "    axes[0,0].bar_label(container, fmt='%.0f')\n",
    "\n",
    "\n",
    "# Plot 2: gender (categorical)\n",
    "sns.countplot(data=profile_pd, x=\"gender\", ax=axes[0, 1], palette=[ifood_palette[\"ifood_red\"], ifood_palette[\"coral\"], ifood_palette[\"light_pink\"]])\n",
    "axes[0, 1].set_title(\"Gender\", color=ifood_palette[\"black\"])\n",
    "for container in axes[0,1].containers:\n",
    "    axes[0,1].bar_label(container, fmt='%.0f')\n",
    "\n",
    "# Plot 3: account_age_years (numeric)\n",
    "sns.histplot(profile_pd[\"account_age_years\"], kde=True, ax=axes[1, 0], color=ifood_palette[\"coral\"])\n",
    "axes[1, 0].set_title(\"Account Age (Years)\", color=ifood_palette[\"black\"])\n",
    "\n",
    "# Plot 4: suspicious_age (categorical)\n",
    "sns.countplot(data=profile_pd, x=\"outlier_age\", ax=axes[1, 1], color=ifood_palette[\"ifood_red\"])\n",
    "axes[1, 1].set_title(\"Suspicious Age Flag\", color=ifood_palette[\"black\"])\n",
    "axes[1, 1].set_xticklabels([\"False\", \"True\"])\n",
    "for container in axes[1,1].containers:\n",
    "    axes[1,1].bar_label(container, fmt='%.0f')\n",
    "\n",
    "\n",
    "# Plot 5: age_group (categorical)\n",
    "sns.countplot(data=profile_pd, x=\"age_group\", order=[\"18-30\", \"31-40\", \"41-50\", \"51-60\", \"61-70\", \"71-80\", \"80+\"], \n",
    "              ax=axes[2, 0], palette=sns.color_palette(\"Reds\", n_colors=7))\n",
    "axes[2, 0].set_title(\"Age Group\", color=ifood_palette[\"black\"])\n",
    "for container in axes[2,0].containers:\n",
    "    axes[2,0].bar_label(container, fmt='%.0f')\n",
    "\n",
    "\n",
    "\n",
    "fig.delaxes(axes[2, 1])\n",
    "\n",
    "\n",
    "for ax in axes.flat:\n",
    "    if ax in fig.axes:  \n",
    "        ax.set_xlabel(ax.get_xlabel(), color=ifood_palette[\"black\"])\n",
    "        ax.set_ylabel(ax.get_ylabel(), color=ifood_palette[\"black\"])\n",
    "        ax.tick_params(colors=ifood_palette[\"black\"])\n",
    "        ax.spines['top'].set_visible(False)\n",
    "        ax.spines['right'].set_visible(False)\n",
    "\n",
    "plt.tight_layout()\n",
    "plt.show()\n"
   ]
  },
  {
   "cell_type": "code",
   "execution_count": 0,
   "metadata": {
    "application/vnd.databricks.v1+cell": {
     "cellMetadata": {
      "byteLimit": 2048000,
      "rowLimit": 10000
     },
     "collapsed": true,
     "inputWidgets": {},
     "nuid": "c9d88d8f-1636-4243-9b8d-cb86e4921c36",
     "showTitle": false,
     "tableResultSettingsMap": {},
     "title": ""
    }
   },
   "outputs": [],
   "source": [
    "fig, axes = plt.subplots(2, 2, figsize=(16, 10))\n",
    "fig.suptitle(\"Boxplots of Profile Attributes\", fontsize=16, color=ifood_palette[\"black\"])\n",
    "\n",
    "# Plot 1: Account Age vs. Gender\n",
    "sns.boxplot(data=profile_pd, x=\"gender\", y=\"account_age_years\", ax=axes[0, 0],\n",
    "            palette=[ifood_palette[\"ifood_red\"], ifood_palette[\"coral\"], ifood_palette[\"light_pink\"]])\n",
    "axes[0, 0].set_title(\"Account Age by Gender\", color=ifood_palette[\"black\"])\n",
    "\n",
    "# Plot 2: Account Age vs. Age Group\n",
    "sns.boxplot(data=profile_pd, x=\"age_group\", y=\"account_age_years\", order=[ \"18-30\", \"31-40\", \"41-50\", \"51-60\", \"61-70\", \"71-80\", \"80+\"],\n",
    "            ax=axes[0, 1], palette=sns.color_palette(\"Reds\", n_colors=7))\n",
    "axes[0, 1].set_title(\"Account Age by Age Group\", color=ifood_palette[\"black\"])\n",
    "axes[0, 1].tick_params(axis=\"x\", rotation=45)\n",
    "\n",
    "# Plot 3: Credit Card Limit vs. Gender\n",
    "sns.boxplot(data=profile_pd[profile_pd[\"credit_card_limit\"] != 1],  # Exclui unknown\n",
    "            x=\"gender\", y=\"credit_card_limit\", ax=axes[1, 0],\n",
    "            palette=[ifood_palette[\"ifood_red\"], ifood_palette[\"coral\"], ifood_palette[\"light_pink\"]])\n",
    "axes[1, 0].set_title(\"Credit Card Limit by Gender\", color=ifood_palette[\"black\"])\n",
    "\n",
    "# Plot 4: Credit Card Limit vs. Age Group\n",
    "sns.boxplot(data=profile_pd[profile_pd[\"credit_card_limit\"] != 1],\n",
    "            x=\"age_group\", y=\"credit_card_limit\",\n",
    "            order=[ \"18-30\", \"31-40\", \"41-50\", \"51-60\", \"61-70\", \"71-80\", \"80+\"],\n",
    "            ax=axes[1, 1], palette=sns.color_palette(\"Reds\", n_colors=7))\n",
    "axes[1, 1].set_title(\"Credit Card Limit by Age Group\", color=ifood_palette[\"black\"])\n",
    "axes[1, 1].tick_params(axis=\"x\", rotation=45)\n",
    "\n",
    "\n",
    "for ax in axes.flat:\n",
    "    ax.set_xlabel(ax.get_xlabel(), color=ifood_palette[\"black\"])\n",
    "    ax.set_ylabel(ax.get_ylabel(), color=ifood_palette[\"black\"])\n",
    "    ax.tick_params(colors=ifood_palette[\"black\"])\n",
    "    ax.spines['top'].set_visible(False)\n",
    "    ax.spines['right'].set_visible(False)\n",
    "\n",
    "plt.tight_layout()\n",
    "plt.show()\n",
    "\n",
    "# The distribution of account age is similar across all gender categories. The median account age is around 8 years for each group.Conclusion: Account age appears to be relatively consistent across different gender groups.\n",
    "\n",
    "# Conclusion: On average, women have higher credit card limits than men in the app.\n",
    "\n",
    "# There is a positive correlation between user age and credit card limit.\n"
   ]
  },
  {
   "cell_type": "code",
   "execution_count": 0,
   "metadata": {
    "application/vnd.databricks.v1+cell": {
     "cellMetadata": {
      "byteLimit": 2048000,
      "rowLimit": 10000
     },
     "collapsed": true,
     "inputWidgets": {},
     "nuid": "6d189f1d-1c88-47a6-ade7-0c9268d13b1c",
     "showTitle": false,
     "tableResultSettingsMap": {},
     "title": ""
    }
   },
   "outputs": [],
   "source": [
    "\n",
    "# Pearson correlation \n",
    "\n",
    "column_pairs = [\n",
    "    (\"account_age_years\", \"credit_card_limit\"),\n",
    "    (\"age\", \"credit_card_limit\"),\n",
    "    (\"age\", \"account_age_years\")\n",
    "]\n",
    "\n",
    "# Calculate pearson correlation for each pair\n",
    "for col1, col2 in column_pairs:\n",
    "    df_filtered = profile_pd[profile_pd[\"credit_card_limit\"] != 1]\n",
    "\n",
    "    r, p_value = pearsonr(df_filtered[col1], df_filtered[col2])\n",
    "    print(f\"Pearson correlation between '{col1}' and '{col2}': r = {r:.3f}, p = {p_value:.3e}\")\n",
    "\n",
    "\n",
    "# Pearson Correlation Insights:\n",
    "# - Age has a moderate positive correlation with credit card limit: older users tend to have higher limits.\n",
    "# - Account age has a statistically significant but very weak correlation with credit limit.\n",
    "# - There is no significant linear correlation between user age and account age — older users are not necessarily longer-term users.\n"
   ]
  },
  {
   "cell_type": "code",
   "execution_count": 0,
   "metadata": {
    "application/vnd.databricks.v1+cell": {
     "cellMetadata": {
      "byteLimit": 2048000,
      "rowLimit": 10000
     },
     "collapsed": true,
     "inputWidgets": {},
     "nuid": "dd3a90dd-e305-49e5-8f09-e928beb515a4",
     "showTitle": false,
     "tableResultSettingsMap": {},
     "title": ""
    }
   },
   "outputs": [],
   "source": [
    "profile_df.display()"
   ]
  },
  {
   "cell_type": "code",
   "execution_count": 0,
   "metadata": {
    "application/vnd.databricks.v1+cell": {
     "cellMetadata": {
      "byteLimit": 2048000,
      "rowLimit": 10000
     },
     "inputWidgets": {},
     "nuid": "3976577e-9ee3-4bdc-a6c4-93aaf40a8dfe",
     "showTitle": false,
     "tableResultSettingsMap": {},
     "title": ""
    }
   },
   "outputs": [],
   "source": [
    "# Saving file \n",
    "\n",
    "(\n",
    "    profile_df\n",
    "    .coalesce(1)                  \n",
    "    .write\n",
    "    .mode(\"overwrite\")\n",
    "    .json(\"/Volumes/workspace/default/data/profile_processed.json\")\n",
    ")"
   ]
  },
  {
   "cell_type": "markdown",
   "metadata": {
    "application/vnd.databricks.v1+cell": {
     "cellMetadata": {
      "byteLimit": 2048000,
      "rowLimit": 10000
     },
     "inputWidgets": {},
     "nuid": "6d41fc90-c3a3-4a57-9fc2-299f6d056873",
     "showTitle": false,
     "tableResultSettingsMap": {},
     "title": ""
    }
   },
   "source": [
    "### 3. Processing **transactions.json**\n",
    "\n",
    "1. We extracted relevant fields from the `value` struct:\n",
    "- `amount`: for `transaction` events\n",
    "- `reward`: for `offer completed` events\n",
    "- `offer_id`: unified from both `offer_id` and `offer id` keys (due to inconsistent naming)\n",
    "\n",
    "2. We filtered transaction events and calculated total amount spent by each costumer. \n",
    "\n",
    "3. Created a unified DataFrame `journey_df`showing the full journey for each costumer-offer pair:\n",
    "  - `received_time`: when the offer was received\n",
    "  - `viewed_time`: when the offer was viewed (if applicable)\n",
    "  - `completed_time`: when the offer was completed (if applicable)\n",
    "  - `reward`: reward value for completed offers\n",
    "  - `total_spent`: overall spend by costumer"
   ]
  },
  {
   "cell_type": "code",
   "execution_count": 0,
   "metadata": {
    "application/vnd.databricks.v1+cell": {
     "cellMetadata": {
      "byteLimit": 2048000,
      "rowLimit": 10000
     },
     "inputWidgets": {},
     "nuid": "1b8c6b55-268c-4038-b161-f4488ba1b0eb",
     "showTitle": false,
     "tableResultSettingsMap": {},
     "title": ""
    }
   },
   "outputs": [],
   "source": [
    "transactions_df.display()"
   ]
  },
  {
   "cell_type": "code",
   "execution_count": 0,
   "metadata": {
    "application/vnd.databricks.v1+cell": {
     "cellMetadata": {
      "byteLimit": 2048000,
      "rowLimit": 10000
     },
     "inputWidgets": {},
     "nuid": "52c44c83-df8c-47a2-96be-27ea64e83b86",
     "showTitle": false,
     "tableResultSettingsMap": {},
     "title": ""
    }
   },
   "outputs": [],
   "source": [
    "transactions_df.groupBy(\"event\").count().orderBy(\"count\", ascending=False).show()"
   ]
  },
  {
   "cell_type": "code",
   "execution_count": 0,
   "metadata": {
    "application/vnd.databricks.v1+cell": {
     "cellMetadata": {
      "byteLimit": 2048000,
      "rowLimit": 10000
     },
     "inputWidgets": {},
     "nuid": "9ac64ee4-dacd-453c-bf91-fda227c07fac",
     "showTitle": false,
     "tableResultSettingsMap": {},
     "title": ""
    }
   },
   "outputs": [],
   "source": [
    "transactions_df.describe().show()\n",
    "\n",
    "#Check for null values \n",
    "transactions_df.select(\n",
    "    sum(col(\"account_id\").isNull().cast(\"int\")).alias(\"null_id\"),\n",
    "    sum(col(\"event\").isNull().cast(\"int\")).alias(\"null_events\"),\n",
    "    sum(col(\"time_since_test_start\").isNull().cast(\"int\")).alias(\"null_time\")\n",
    ").show()\n",
    "\n"
   ]
  },
  {
   "cell_type": "code",
   "execution_count": 0,
   "metadata": {
    "application/vnd.databricks.v1+cell": {
     "cellMetadata": {
      "byteLimit": 2048000,
      "rowLimit": 10000
     },
     "inputWidgets": {},
     "nuid": "3a5dfaf4-411b-48a6-a467-278eae7b4fd6",
     "showTitle": false,
     "tableResultSettingsMap": {},
     "title": ""
    }
   },
   "outputs": [],
   "source": [
    "transactions_df.printSchema()\n"
   ]
  },
  {
   "cell_type": "code",
   "execution_count": 0,
   "metadata": {
    "application/vnd.databricks.v1+cell": {
     "cellMetadata": {
      "byteLimit": 2048000,
      "rowLimit": 10000
     },
     "inputWidgets": {},
     "nuid": "1d0159ea-b7c6-41f0-ad3b-0b03e0cff043",
     "showTitle": false,
     "tableResultSettingsMap": {},
     "title": ""
    }
   },
   "outputs": [],
   "source": [
    "# Extracting fields from the 'value' struct column:\n",
    "# - Creates separate columns for 'amount', 'reward', and 'offer_id'\n",
    "# - Unify 'offer_id' from either 'offer_id' or 'offer id'\n",
    "\n",
    "transactions_df = transactions_df \\\n",
    "    .withColumn(\"amount\", col(\"value.amount\")) \\\n",
    "    .withColumn(\"reward\", col(\"value.reward\")) \\\n",
    "    .withColumn(\"offer_id_underscore\", col(\"value.offer_id\")) \\\n",
    "    .withColumn(\"offer_id_space\", col(\"value.`offer id`\"))\n",
    "\n",
    "transactions_df = transactions_df.withColumn(\n",
    "    \"offer_id\", coalesce(col(\"offer_id_underscore\"), col(\"offer_id_space\"))\n",
    ")\n",
    "\n",
    "# Backup value\n",
    "backup_transactions_df = transactions_df\n",
    "#drop repeated columns\n",
    "transactions_df = transactions_df.drop(\"offer_id_underscore\", \"offer_id_space\", \"value\")\n",
    "\n",
    "transactions_df.printSchema()\n"
   ]
  },
  {
   "cell_type": "code",
   "execution_count": 0,
   "metadata": {
    "application/vnd.databricks.v1+cell": {
     "cellMetadata": {
      "byteLimit": 2048000,
      "rowLimit": 10000
     },
     "inputWidgets": {},
     "nuid": "14c0f9c7-c492-4176-9be9-4da15c3fcfac",
     "showTitle": false,
     "tableResultSettingsMap": {},
     "title": ""
    }
   },
   "outputs": [],
   "source": [
    "# Splitting transactional events into separate DataFrames:\n",
    "\n",
    "received_df = transactions_df.filter(col(\"event\") == \"offer received\") \\\n",
    "    .select(\"account_id\", \"offer_id\", col(\"time_since_test_start\").alias(\"received_time\"))\n",
    "\n",
    "viewed_df = transactions_df.filter(col(\"event\") == \"offer viewed\") \\\n",
    "    .select(\"account_id\", \"offer_id\", col(\"time_since_test_start\").alias(\"viewed_time\"))\n",
    "\n",
    "completed_df = transactions_df.filter(col(\"event\") == \"offer completed\") \\\n",
    "    .select(\"account_id\", \"offer_id\", col(\"time_since_test_start\").alias(\"completed_time\"), \"reward\")\n"
   ]
  },
  {
   "cell_type": "code",
   "execution_count": 0,
   "metadata": {
    "application/vnd.databricks.v1+cell": {
     "cellMetadata": {
      "byteLimit": 2048000,
      "rowLimit": 10000
     },
     "inputWidgets": {},
     "nuid": "9678125a-a2c7-4448-9f5c-9635379db455",
     "showTitle": false,
     "tableResultSettingsMap": {},
     "title": ""
    }
   },
   "outputs": [],
   "source": [
    "# Total customer spending distribution\n",
    "\n",
    "transactions_only_df = transactions_df.filter(col(\"event\") == \"transaction\") \\\n",
    "    .groupBy(\"account_id\") \\\n",
    "    .agg(sum(\"amount\").alias(\"total_spent\"))\n",
    "\n",
    "transactions_only_pd = transactions_only_df.toPandas()\n",
    "\n",
    "fig, axes = plt.subplots(1, 2, figsize=(16, 6))\n",
    "fig.suptitle(\"Customer Spending Overview\", fontsize=16, color=ifood_palette[\"black\"])\n",
    "\n",
    "#Plot 1: full distribution\n",
    "sns.histplot(transactions_only_pd[\"total_spent\"], bins=30, kde=True, ax=axes[0], color=ifood_palette[\"light_pink\"])\n",
    "axes[0].set_title(\"Distribution of Total Spend (All)\", color=ifood_palette[\"black\"])\n",
    "axes[0].set_xlabel(\"Total Spent\")\n",
    "axes[0].set_ylabel(\"Number of Customers\")\n",
    "\n",
    "# Plot 2: zoom in spent in [0,600]\n",
    "sns.histplot(transactions_only_pd[transactions_only_pd[\"total_spent\"] <= 600][\"total_spent\"],\n",
    "             bins=30, kde=True, ax=axes[1], color=ifood_palette[\"coral\"])\n",
    "axes[1].set_title(\"Zoom: Total Spend ≤ 600\", color=ifood_palette[\"black\"])\n",
    "axes[1].set_xlabel(\"Total Spent (Zoomed)\")\n",
    "axes[1].set_ylabel(\"Number of Customers\")\n",
    "\n",
    "\n",
    "for ax in axes:\n",
    "    ax.spines['top'].set_visible(False)\n",
    "    ax.spines['right'].set_visible(False)\n",
    "    ax.tick_params(colors=ifood_palette[\"black\"])\n",
    "\n",
    "plt.tight_layout()\n",
    "plt.show()"
   ]
  },
  {
   "cell_type": "code",
   "execution_count": 0,
   "metadata": {
    "application/vnd.databricks.v1+cell": {
     "cellMetadata": {
      "byteLimit": 2048000,
      "rowLimit": 10000
     },
     "inputWidgets": {},
     "nuid": "49932097-c4f0-44e7-9cc7-33995d320096",
     "showTitle": false,
     "tableResultSettingsMap": {},
     "title": ""
    }
   },
   "outputs": [],
   "source": [
    "# Merge offer stages (received -> viewed -> completed) with customer spending\n",
    "\n",
    "journey_df = received_df \\\n",
    "    .join(viewed_df, [\"account_id\", \"offer_id\"], how=\"left\") \\\n",
    "    .join(completed_df, [\"account_id\", \"offer_id\"], how=\"left\") \\\n",
    "    .join(transactions_only_df, on=\"account_id\", how=\"left\")\n",
    "\n",
    "journey_df.display()\n"
   ]
  },
  {
   "cell_type": "code",
   "execution_count": 0,
   "metadata": {
    "application/vnd.databricks.v1+cell": {
     "cellMetadata": {
      "byteLimit": 2048000,
      "rowLimit": 10000
     },
     "inputWidgets": {},
     "nuid": "1eb2286f-f37b-439a-84f4-7409bf8ea186",
     "showTitle": false,
     "tableResultSettingsMap": {},
     "title": ""
    }
   },
   "outputs": [],
   "source": [
    "# Percentage of Received Offers That Were Completed\n",
    "journey_df.select(\n",
    "    count(\"*\").alias(\"total_offers\"),\n",
    "    count(when(col(\"completed_time\").isNotNull(), True)).alias(\"completed_offers\")\n",
    ").withColumn(\n",
    "    \"conversion_rate\", col(\"completed_offers\") / col(\"total_offers\")\n",
    ").show()"
   ]
  },
  {
   "cell_type": "code",
   "execution_count": 0,
   "metadata": {
    "application/vnd.databricks.v1+cell": {
     "cellMetadata": {
      "byteLimit": 2048000,
      "rowLimit": 10000
     },
     "inputWidgets": {},
     "nuid": "60e7448e-1edb-4b39-b36e-e67b6a828f37",
     "showTitle": false,
     "tableResultSettingsMap": {},
     "title": ""
    }
   },
   "outputs": [],
   "source": [
    "\n",
    "# Visualizing Received Offers That Were Completed\n",
    "journey_df = journey_df.withColumn(\"completed_flag\", when(col(\"completed_time\").isNotNull(), True).otherwise(False))\n",
    "journey_pd = journey_df.select(\"completed_flag\").toPandas()\n",
    "conversion_counts = journey_pd[\"completed_flag\"].value_counts()\n",
    "labels = [\"Completed\", \"Not Completed\"]\n",
    "colors = [ifood_palette[\"mid_pink\"], ifood_palette[\"ifood_red\"]]\n",
    "\n",
    "plt.pie(conversion_counts, labels=labels, autopct=\"%1.1f%%\", colors=colors, startangle=90)\n",
    "plt.title(\"Overall Offer Conversion Rate\")\n",
    "plt.axis(\"equal\")\n",
    "plt.show()\n",
    "\n",
    "# Over half of the received offers were completed, with a conversion rate of approximately 58%.\n",
    "# However, there is still room to optimize the experience for the 42% who do not complete the offer."
   ]
  },
  {
   "cell_type": "code",
   "execution_count": 0,
   "metadata": {
    "application/vnd.databricks.v1+cell": {
     "cellMetadata": {
      "byteLimit": 2048000,
      "rowLimit": 10000
     },
     "inputWidgets": {},
     "nuid": "953bc93e-f97b-472a-b422-fe8d9bf3400c",
     "showTitle": false,
     "tableResultSettingsMap": {},
     "title": ""
    }
   },
   "outputs": [],
   "source": [
    "# Influence of Offer Visualization\n",
    "\n",
    "journey_df.select(\n",
    "    count(\"*\").alias(\"total\"),\n",
    "    count(when(col(\"viewed_time\").isNotNull(), True)).alias(\"viewed\"),\n",
    "    count(when(col(\"completed_time\").isNotNull(), True)).alias(\"completed\"),\n",
    "    count(when((col(\"viewed_time\").isNotNull()) & (col(\"completed_time\").isNotNull()), True)).alias(\"viewed_and_completed\")\n",
    ").show()\n"
   ]
  },
  {
   "cell_type": "code",
   "execution_count": 0,
   "metadata": {
    "application/vnd.databricks.v1+cell": {
     "cellMetadata": {
      "byteLimit": 2048000,
      "rowLimit": 10000
     },
     "inputWidgets": {},
     "nuid": "2b2365c6-73a1-4728-be05-0e5462faec4a",
     "showTitle": false,
     "tableResultSettingsMap": {},
     "title": ""
    }
   },
   "outputs": [],
   "source": [
    "# Average Time to Offer Completion\n",
    "journey_df = journey_df.withColumn(\n",
    "    \"time_to_complete\", col(\"completed_time\") - col(\"received_time\")\n",
    ")\n",
    "\n",
    "journey_df.filter(col(\"time_to_complete\").isNotNull()) \\\n",
    "    .select(round(avg(\"time_to_complete\"), 2).alias(\"avg_days_to_complete\")) \\\n",
    "    .show()"
   ]
  },
  {
   "cell_type": "code",
   "execution_count": 0,
   "metadata": {
    "application/vnd.databricks.v1+cell": {
     "cellMetadata": {
      "byteLimit": 2048000,
      "rowLimit": 10000
     },
     "inputWidgets": {},
     "nuid": "c92ca3b4-d61b-4bac-a01f-4063a7db75c5",
     "showTitle": false,
     "tableResultSettingsMap": {},
     "title": ""
    }
   },
   "outputs": [],
   "source": [
    "# Visualizing Average Time to Offer Completion\n",
    "journey_pd = journey_df.toPandas()\n",
    "journey_pd = journey_pd[journey_pd[\"time_to_complete\"] >= 0]\n",
    "sns.histplot(journey_pd[\"time_to_complete\"].dropna(), bins=30, kde=True, color=ifood_palette[\"coral\"])\n",
    "plt.title(\"Distribution of Time to Complete Offer\")\n",
    "plt.xlabel(\"Days to Complete\")\n",
    "plt.ylabel(\"Frequency\")\n",
    "plt.show()\n",
    "\n",
    "# Most users complete the offer within the first few days after receiving it.\n",
    "# The distribution is right-skewed, indicating that quick completions are common, while longer durations rarely lead to completion.\n"
   ]
  },
  {
   "cell_type": "code",
   "execution_count": 0,
   "metadata": {
    "application/vnd.databricks.v1+cell": {
     "cellMetadata": {
      "byteLimit": 2048000,
      "rowLimit": 10000
     },
     "inputWidgets": {},
     "nuid": "6e49428c-b2c9-494f-a636-578b0fc43799",
     "showTitle": false,
     "tableResultSettingsMap": {},
     "title": ""
    }
   },
   "outputs": [],
   "source": [
    "    \n",
    "# Average Spending of Users Who Complete vs. Do Not Complete the Offer\n",
    "journey_df.select(\n",
    "    when(col(\"completed_time\").isNotNull(), \"Completed\").otherwise(\"Not Completed\").alias(\"status\"),\n",
    "    \"total_spent\"\n",
    ").groupBy(\"status\").agg(\n",
    "    count(\"*\").alias(\"n_customers\"),\n",
    "    round(avg(\"total_spent\"), 2).alias(\"avg_spent\")\n",
    ").show()"
   ]
  },
  {
   "cell_type": "code",
   "execution_count": 0,
   "metadata": {
    "application/vnd.databricks.v1+cell": {
     "cellMetadata": {
      "byteLimit": 2048000,
      "rowLimit": 10000
     },
     "inputWidgets": {},
     "nuid": "94a84204-98a5-4623-b0e0-30a8edf4c74d",
     "showTitle": false,
     "tableResultSettingsMap": {},
     "title": ""
    }
   },
   "outputs": [],
   "source": [
    "# Total customer spent only for completed distribution\n",
    "\n",
    "completed_only = journey_pd[journey_pd[\"completed_time\"].notna()]\n",
    "\n",
    "fig, axes = plt.subplots(1, 2, figsize=(16, 6))\n",
    "fig.suptitle(\"Total Spend Distribution – Completed Offers Only\", fontsize=16, color=ifood_palette[\"black\"])\n",
    "\n",
    "#Plot 1: full distribution\n",
    "sns.histplot(completed_only[\"total_spent\"], bins=30, ax=axes[0], color=ifood_palette[\"light_pink\"])\n",
    "axes[0].set_title(\"Distribution of Total Spend (All)\", color=ifood_palette[\"black\"])\n",
    "axes[0].set_xlabel(\"Total Spent\")\n",
    "axes[0].set_ylabel(\"Number of Customers\")\n",
    "\n",
    "# Plot 2: zoom in spent in [0,600]\n",
    "sns.histplot(completed_only[completed_only[\"total_spent\"] <= 600][\"total_spent\"],\n",
    "             bins=30, kde=True, ax=axes[1], color=ifood_palette[\"coral\"])\n",
    "axes[1].set_title(\"Zoom: Total Spend ≤ 600\", color=ifood_palette[\"black\"])\n",
    "axes[1].set_xlabel(\"Total Spent (Zoomed)\")\n",
    "axes[1].set_ylabel(\"Number of Customers\")\n",
    "\n",
    "# Ajustes visuais\n",
    "for ax in axes:\n",
    "    ax.spines['top'].set_visible(False)\n",
    "    ax.spines['right'].set_visible(False)\n",
    "    ax.tick_params(colors=ifood_palette[\"black\"])\n",
    "\n",
    "plt.tight_layout()\n",
    "plt.show()"
   ]
  },
  {
   "cell_type": "code",
   "execution_count": 0,
   "metadata": {
    "application/vnd.databricks.v1+cell": {
     "cellMetadata": {
      "byteLimit": 2048000,
      "rowLimit": 10000
     },
     "inputWidgets": {},
     "nuid": "cf7580a6-6c1b-4c1f-ab6c-5c934cbaeda9",
     "showTitle": false,
     "tableResultSettingsMap": {},
     "title": ""
    }
   },
   "outputs": [],
   "source": [
    "transactions_df.groupBy(\"event\").agg(\n",
    "    sum(col(\"amount\").isNull().cast(\"int\")).alias(\"null_amount\"),\n",
    "    sum(col(\"reward\").isNull().cast(\"int\")).alias(\"null_reward\"),\n",
    "    sum(col(\"offer_id\").isNull().cast(\"int\")).alias(\"null_offer_id\")\n",
    ").show()"
   ]
  },
  {
   "cell_type": "code",
   "execution_count": 0,
   "metadata": {
    "application/vnd.databricks.v1+cell": {
     "cellMetadata": {
      "byteLimit": 2048000,
      "rowLimit": 10000
     },
     "collapsed": true,
     "inputWidgets": {},
     "nuid": "657d700d-13ad-4759-b3a2-be22375751f4",
     "showTitle": false,
     "tableResultSettingsMap": {},
     "title": ""
    }
   },
   "outputs": [],
   "source": [
    "transactions_df.display()"
   ]
  },
  {
   "cell_type": "code",
   "execution_count": 0,
   "metadata": {
    "application/vnd.databricks.v1+cell": {
     "cellMetadata": {
      "byteLimit": 2048000,
      "rowLimit": 10000
     },
     "collapsed": true,
     "inputWidgets": {},
     "nuid": "54cbb0f3-37ff-44ff-97bf-519250f3cc60",
     "showTitle": false,
     "tableResultSettingsMap": {},
     "title": ""
    }
   },
   "outputs": [],
   "source": [
    "# Saving file \n",
    "(\n",
    "    transactions_df\n",
    "    .coalesce(1)                  \n",
    "    .write\n",
    "    .mode(\"overwrite\")\n",
    "    .json(\"/Volumes/workspace/default/data/transactions_df.json\")\n",
    ")"
   ]
  },
  {
   "cell_type": "markdown",
   "metadata": {
    "application/vnd.databricks.v1+cell": {
     "cellMetadata": {
      "byteLimit": 2048000,
      "rowLimit": 10000
     },
     "inputWidgets": {},
     "nuid": "79f39350-56eb-47d0-b4d0-685751e8ade5",
     "showTitle": false,
     "tableResultSettingsMap": {},
     "title": ""
    }
   },
   "source": [
    "### 4. Unifying datasets"
   ]
  },
  {
   "cell_type": "code",
   "execution_count": 0,
   "metadata": {
    "application/vnd.databricks.v1+cell": {
     "cellMetadata": {
      "byteLimit": 2048000,
      "rowLimit": 10000
     },
     "inputWidgets": {},
     "nuid": "3d06c253-4e1d-43c3-afd1-c297f13b1e96",
     "showTitle": false,
     "tableResultSettingsMap": {},
     "title": ""
    }
   },
   "outputs": [],
   "source": [
    "\n",
    "# Transactions and offers (by offer_id)\n",
    "full_df = transactions_df.join(offers_df, on=\"offer_id\", how=\"left\")\n",
    "\n",
    "\n",
    "# 2. Adding  profile (by account_id)\n",
    "full_df = full_df.join(profile_df, on=\"account_id\", how=\"left\")\n"
   ]
  },
  {
   "cell_type": "code",
   "execution_count": 0,
   "metadata": {
    "application/vnd.databricks.v1+cell": {
     "cellMetadata": {
      "byteLimit": 2048000,
      "rowLimit": 10000
     },
     "inputWidgets": {},
     "nuid": "b055b19d-f184-4090-8bb0-fbd5ecd4fd0b",
     "showTitle": false,
     "tableResultSettingsMap": {},
     "title": ""
    }
   },
   "outputs": [],
   "source": [
    "full_df.display()"
   ]
  },
  {
   "cell_type": "code",
   "execution_count": 0,
   "metadata": {
    "application/vnd.databricks.v1+cell": {
     "cellMetadata": {
      "byteLimit": 2048000,
      "rowLimit": 10000
     },
     "inputWidgets": {},
     "nuid": "ee2a2978-2a05-41a2-a65e-f875d7ea691e",
     "showTitle": false,
     "tableResultSettingsMap": {},
     "title": ""
    }
   },
   "outputs": [],
   "source": [
    "df_valid = full_df.filter(col(\"reward\").isNotNull() & col(\"discount_value\").isNotNull())\n",
    "df = df_valid.withColumn(\"columns_equal\", col(\"discount_value\") == col(\"reward\"))\n",
    "df_equal = df.filter(col(\"discount_value\") == col(\"reward\"))\n",
    "\n",
    "print(\"Total rows with valid entrances in reward and discount_value:\", df_valid.count())\n",
    "print(\"Rows where reward == discount_value:\", df_equal.count())\n",
    "\n",
    "# All valid entries in the \"reward\" and \"discount_value\" columns are equal.\n",
    "# The number of matches (33,579) is exactly the number of non-null values in \"offer completed\" events.\n",
    "# This confirms that whenever offer is completed, the reward is consistently recorded as a discount in the transaction.\n"
   ]
  },
  {
   "cell_type": "code",
   "execution_count": 0,
   "metadata": {
    "application/vnd.databricks.v1+cell": {
     "cellMetadata": {
      "byteLimit": 2048000,
      "rowLimit": 10000
     },
     "inputWidgets": {},
     "nuid": "7df230a1-bff7-402e-85a4-04af737c9e47",
     "showTitle": false,
     "tableResultSettingsMap": {},
     "title": ""
    }
   },
   "outputs": [],
   "source": [
    "# Droping 'reward', since discount_value is valid for completed and incompleted offers\n",
    "full_df = full_df.drop(\"reward\")"
   ]
  },
  {
   "cell_type": "code",
   "execution_count": 0,
   "metadata": {
    "application/vnd.databricks.v1+cell": {
     "cellMetadata": {
      "byteLimit": 2048000,
      "rowLimit": 10000
     },
     "inputWidgets": {},
     "nuid": "9703bf01-e76a-47c8-a2fe-56914d721e3c",
     "showTitle": false,
     "tableResultSettingsMap": {},
     "title": ""
    }
   },
   "outputs": [],
   "source": [
    "full_df.display()"
   ]
  },
  {
   "cell_type": "code",
   "execution_count": 0,
   "metadata": {
    "application/vnd.databricks.v1+cell": {
     "cellMetadata": {
      "byteLimit": 2048000,
      "rowLimit": 10000
     },
     "inputWidgets": {},
     "nuid": "b57419f6-fa97-410c-a3b6-994e334155f6",
     "showTitle": false,
     "tableResultSettingsMap": {},
     "title": ""
    }
   },
   "outputs": [],
   "source": [
    "\n",
    "full_pd = full_df.toPandas()\n",
    "numeric_df = full_pd.select_dtypes(include=[\"int64\", \"float64\"])\n",
    "correlation_matrix = numeric_df.corr(method=\"pearson\")\n"
   ]
  },
  {
   "cell_type": "code",
   "execution_count": 0,
   "metadata": {
    "application/vnd.databricks.v1+cell": {
     "cellMetadata": {
      "byteLimit": 2048000,
      "rowLimit": 10000
     },
     "inputWidgets": {},
     "nuid": "e0070619-3ea4-4fce-83a3-9116a5281537",
     "showTitle": false,
     "tableResultSettingsMap": {},
     "title": ""
    }
   },
   "outputs": [],
   "source": [
    "plt.figure(figsize=(12, 10))\n",
    "sns.heatmap(correlation_matrix, annot=True, cmap=\"Reds\", fmt=\".2f\", linewidths=0.5)\n",
    "plt.title(\"Correlation Matrix of Numerical Features\")\n",
    "plt.xticks(rotation=45)\n",
    "plt.yticks(rotation=0)\n",
    "plt.tight_layout()\n",
    "plt.show()\n",
    "\n",
    "# Strong Positive Correlation Between duration and min_value (0.77): suggests that offers with higher minimum spending requirements tend to have longer durations. \n",
    "\n",
    "# Negative Correlation Between reward and duration (-0.47): Offers with higher rewards tend to have shorter durations."
   ]
  },
  {
   "cell_type": "code",
   "execution_count": 0,
   "metadata": {
    "application/vnd.databricks.v1+cell": {
     "cellMetadata": {
      "byteLimit": 2048000,
      "rowLimit": 10000
     },
     "inputWidgets": {},
     "nuid": "fabdc1ed-0eaa-4982-b8a1-8802abea3a01",
     "showTitle": false,
     "tableResultSettingsMap": {},
     "title": ""
    }
   },
   "outputs": [],
   "source": [
    "# Include offer_type in dataset\n",
    "journey_with_type = journey_df.join(offers_df.select(\"offer_id\", \"offer_type\"), journey_df[\"offer_id\"] == offers_df[\"offer_id\"], how=\"left\")\n",
    "\n",
    "# Conversion rate = % de completadas por tipo\n",
    "conversion_by_type = journey_with_type.groupBy(\"offer_type\").agg(\n",
    "    count(\"*\").alias(\"total_offers\"),\n",
    "    count(when(col(\"completed_time\").isNotNull(), True)).alias(\"completed_offers\")\n",
    ").withColumn(\n",
    "    \"conversion_rate\", col(\"completed_offers\") / col(\"total_offers\")\n",
    ")\n",
    "\n",
    "conversion_by_type.show()\n",
    "# Discount offers have the highest conversion rate at 73.25%\n",
    "# BOGO offers also perform well, with a conversion rate of 65.76%"
   ]
  },
  {
   "cell_type": "markdown",
   "metadata": {
    "application/vnd.databricks.v1+cell": {
     "cellMetadata": {
      "byteLimit": 2048000,
      "rowLimit": 10000
     },
     "inputWidgets": {},
     "nuid": "d7fe0a4c-baf5-4e13-b702-9a53d72eb923",
     "showTitle": false,
     "tableResultSettingsMap": {},
     "title": ""
    }
   },
   "source": [
    "###  Feature Engineering"
   ]
  },
  {
   "cell_type": "code",
   "execution_count": 0,
   "metadata": {
    "application/vnd.databricks.v1+cell": {
     "cellMetadata": {
      "byteLimit": 2048000,
      "rowLimit": 10000
     },
     "inputWidgets": {},
     "nuid": "fcfaecec-33eb-4143-86f9-779474a8b69d",
     "showTitle": false,
     "tableResultSettingsMap": {},
     "title": ""
    }
   },
   "outputs": [],
   "source": [
    "# Explode channels (array)\n",
    "offers_exploded = offers_df.select(\"offer_id\", explode(\"channels\").alias(\"channel\"))\n",
    "\n",
    "# Adds channel information to each record in journey_df\n",
    "journey_with_channels = journey_df.join(offers_exploded, journey_df[\"offer_id\"] == offers_exploded[\"offer_id\"], how=\"left\")\n",
    "\n",
    "# Conversion rate by channel:\n",
    "conversion_by_channel = journey_with_channels.groupBy(\"channel\").agg(\n",
    "    count(\"*\").alias(\"total_offers\"),\n",
    "    count(when(col(\"completed_time\").isNotNull(), True)).alias(\"completed_offers\")\n",
    ").withColumn(\n",
    "    \"conversion_rate\", col(\"completed_offers\") / col(\"total_offers\")\n",
    ")\n",
    "\n",
    "conversion_by_channel.show()\n",
    "\n",
    "# Web channel has the highest conversion rate at 63.92%\n",
    "# Social media has a conversion rate of 62.23%\n",
    "# Mobile (58.48%) and email (58.30%) show similar conversion rates\n",
    "# Web and social channels stand out as the most effective in driving offer completions.\n"
   ]
  },
  {
   "cell_type": "code",
   "execution_count": 0,
   "metadata": {
    "application/vnd.databricks.v1+cell": {
     "cellMetadata": {
      "byteLimit": 2048000,
      "rowLimit": 10000
     },
     "inputWidgets": {},
     "nuid": "17db9a9f-534c-4bc6-928d-e6f0e0b61d11",
     "showTitle": false,
     "tableResultSettingsMap": {},
     "title": ""
    }
   },
   "outputs": [],
   "source": [
    "\n",
    "# Ploting conversion rate by offer type and channel\n",
    "conversion_by_type_df = pd.DataFrame({\n",
    "    'offer_type': ['bogo', 'discount', 'informational'],\n",
    "    'conversion_rate': [0.66, 0.73, 0.0]\n",
    "})\n",
    "\n",
    "conversion_by_channel_df = pd.DataFrame({\n",
    "    'channel': ['email', 'web', 'mobile', 'social'],\n",
    "    'conversion_rate': [0.58, 0.64, 0.58, 0.62]\n",
    "})\n",
    "\n",
    "# Plotting\n",
    "fig, axes = plt.subplots(1, 2, figsize=(14, 5))\n",
    "\n",
    "# Conversion by offer type\n",
    "axes[0].bar(conversion_by_type_df['offer_type'], conversion_by_type_df['conversion_rate'], color=ifood_palette['mid_pink'])\n",
    "axes[0].set_title('Conversion Rate by Offer Type')\n",
    "axes[0].set_ylabel('Conversion Rate')\n",
    "axes[0].set_ylim(0, 1)\n",
    "\n",
    "# Conversion by channel\n",
    "axes[1].bar(conversion_by_channel_df['channel'], conversion_by_channel_df['conversion_rate'], color=ifood_palette['coral'])\n",
    "axes[1].set_title('Conversion Rate by Channel')\n",
    "axes[1].set_ylabel('Conversion Rate')\n",
    "axes[1].set_ylim(0, 1)\n",
    "\n",
    "plt.tight_layout()\n",
    "plt.show()\n"
   ]
  },
  {
   "cell_type": "code",
   "execution_count": 0,
   "metadata": {
    "application/vnd.databricks.v1+cell": {
     "cellMetadata": {
      "byteLimit": 2048000,
      "rowLimit": 10000
     },
     "inputWidgets": {},
     "nuid": "dccd642f-3719-4146-b508-93f74d05ee93",
     "showTitle": false,
     "tableResultSettingsMap": {},
     "title": ""
    }
   },
   "outputs": [],
   "source": [
    "# Groups rows by each unique customer (account_id)\n",
    "customer_window = Window.partitionBy(\"account_id\")\n",
    "\n",
    "# Counts how many offers each customer has received and each has completed.\n",
    "# Calculate personal conversion rate: completed offers/received offers.\n",
    "# Counts the number of transactions the user made.\n",
    "# Calculates the average transaction amount per user (only considering rows where event == \"transaction\").\n",
    "\n",
    "df_full = full_df \\\n",
    "    .withColumn(\"n_offers_received\", count(when(col(\"event\") == \"offer received\", True)).over(customer_window)) \\\n",
    "    .withColumn(\"n_offers_viewed\", count(when(col(\"event\") == \"offer viewed\", True)).over(customer_window)) \\\n",
    "    .withColumn(\"n_offers_completed\", count(when(col(\"event\") == \"offer completed\", True)).over(customer_window)) \\\n",
    "    .withColumn(\"conversion_rate\", col(\"n_offers_completed\") / col(\"n_offers_received\")) \\\n",
    "    .withColumn(\"n_transactions\", count(when(col(\"event\") == \"transaction\", True)).over(customer_window)) \\\n",
    "    .withColumn(\"avg_transaction\", avg(when(col(\"event\") == \"transaction\", col(\"amount\"))).over(customer_window))\n",
    "\n"
   ]
  },
  {
   "cell_type": "code",
   "execution_count": 0,
   "metadata": {
    "application/vnd.databricks.v1+cell": {
     "cellMetadata": {
      "byteLimit": 2048000,
      "rowLimit": 10000
     },
     "inputWidgets": {},
     "nuid": "2059e826-e045-4777-8164-b505c14102c3",
     "showTitle": false,
     "tableResultSettingsMap": {},
     "title": ""
    }
   },
   "outputs": [],
   "source": [
    "df_full = df_full.withColumn(\n",
    "    \"account_age_group\",\n",
    "    when(col(\"account_age_years\") <= 0.082, \"0–30 dias\")\n",
    "    .when(col(\"account_age_years\") <= 0.493, \"31–180 dias\")\n",
    "    .when(col(\"account_age_years\") <= 1.0, \"181–365 dias\")\n",
    "    .when(col(\"account_age_years\") <= 2.0, \"1–2 anos\")\n",
    "    .when(col(\"account_age_years\") <= 5.0, \"2–5 anos\")\n",
    "    .otherwise(\"+5 anos\")\n",
    ")"
   ]
  },
  {
   "cell_type": "code",
   "execution_count": 0,
   "metadata": {
    "application/vnd.databricks.v1+cell": {
     "cellMetadata": {
      "byteLimit": 2048000,
      "rowLimit": 10000
     },
     "inputWidgets": {},
     "nuid": "78cd0009-1fe5-4879-b48f-e97b294f2585",
     "showTitle": false,
     "tableResultSettingsMap": {},
     "title": ""
    }
   },
   "outputs": [],
   "source": [
    "\n",
    "# Adding number of transactions, total amount spent, average transaction value\n",
    "full_df = full_df \\\n",
    "    .withColumn(\"n_transactions\", count(when(col(\"event\") == \"transaction\", True)).over(customer_window)) \\\n",
    "    .withColumn(\"total_spent\", sum(when(col(\"event\") == \"transaction\", col(\"amount\"))).over(customer_window)) \\\n",
    "    .withColumn(\"avg_transaction\", expr(\"try_divide(total_spent, n_transactions)\"))\n"
   ]
  },
  {
   "cell_type": "code",
   "execution_count": 0,
   "metadata": {
    "application/vnd.databricks.v1+cell": {
     "cellMetadata": {
      "byteLimit": 2048000,
      "rowLimit": 10000
     },
     "inputWidgets": {},
     "nuid": "5ff1c81a-a6b3-4209-9558-609b606009e9",
     "showTitle": false,
     "tableResultSettingsMap": {},
     "title": ""
    }
   },
   "outputs": [],
   "source": [
    "# Adding how many different channels the customer has interacted with and how many different types of offers they've received\n",
    "full_df = full_df \\\n",
    "    .withColumn(\"distinct_channels\", size(collect_set(\"channels\").over(customer_window))) \\\n",
    "    .withColumn(\"distinct_offer_types\", size(collect_set(\"offer_type\").over(customer_window)))"
   ]
  },
  {
   "cell_type": "code",
   "execution_count": 0,
   "metadata": {
    "application/vnd.databricks.v1+cell": {
     "cellMetadata": {
      "byteLimit": 2048000,
      "rowLimit": 10000
     },
     "inputWidgets": {},
     "nuid": "798ade5c-30a6-4006-beca-7057d19591a5",
     "showTitle": false,
     "tableResultSettingsMap": {},
     "title": ""
    }
   },
   "outputs": [],
   "source": [
    "# Engagement score as: (offers_viewed + offers_completed) / offers_received\n",
    "df_full = df_full.withColumn(\n",
    "    \"engagement_score\",\n",
    "    (col(\"n_offers_viewed\") + col(\"n_offers_completed\")) / col(\"n_offers_received\")\n",
    ")\n",
    "\n",
    "# Score = 0: The user received offers but did not view or complete any of them.\n",
    "# 0 < Score < 1: The user viewed or completed some of the received offers.\n",
    "# Score = 1: The total number of views + completions equals the number of offers received. If the user did not complete an offer, it means the user interacted with every offer at least once.\n",
    "# Score > 1: The user both viewed and completed offers, indicating high engagement "
   ]
  },
  {
   "cell_type": "code",
   "execution_count": 0,
   "metadata": {
    "application/vnd.databricks.v1+cell": {
     "cellMetadata": {
      "byteLimit": 2048000,
      "rowLimit": 10000
     },
     "inputWidgets": {},
     "nuid": "7850848a-b4b3-42ec-ab63-1473524035e9",
     "showTitle": false,
     "tableResultSettingsMap": {},
     "title": ""
    }
   },
   "outputs": [],
   "source": [
    "full_df.display()"
   ]
  },
  {
   "cell_type": "markdown",
   "metadata": {
    "application/vnd.databricks.v1+cell": {
     "cellMetadata": {
      "byteLimit": 2048000,
      "rowLimit": 10000
     },
     "inputWidgets": {},
     "nuid": "afe99c26-710c-4d0a-97e1-42d0a8d345bb",
     "showTitle": false,
     "tableResultSettingsMap": {},
     "title": ""
    }
   },
   "source": [
    "###  Data visualization"
   ]
  },
  {
   "cell_type": "code",
   "execution_count": 0,
   "metadata": {
    "application/vnd.databricks.v1+cell": {
     "cellMetadata": {
      "byteLimit": 2048000,
      "rowLimit": 10000
     },
     "inputWidgets": {},
     "nuid": "37782e24-d5e4-4385-ab1e-ad1bb8157aa0",
     "showTitle": false,
     "tableResultSettingsMap": {},
     "title": ""
    }
   },
   "outputs": [],
   "source": [
    "\n",
    "# Grouping conversion rate by categories to plot\n",
    "df_age_group = (\n",
    "    df_full.groupBy(\"age_group\", \"offer_type\")\n",
    "    .agg((sum(\"n_offers_completed\") / sum(\"n_offers_received\")).alias(\"conversion_rate\"))\n",
    "    .orderBy(\"age_group\", \"offer_type\")\n",
    "    .toPandas()\n",
    ")\n",
    "\n",
    "df_account_age = (\n",
    "    df_full.groupBy(\"account_age_group\", \"offer_type\")\n",
    "    .agg((sum(\"n_offers_completed\") / sum(\"n_offers_received\")).alias(\"conversion_rate\"))\n",
    "    .orderBy(\"account_age_group\", \"offer_type\")\n",
    "    .toPandas()\n",
    ")\n",
    "\n",
    "df_credit_group = (\n",
    "    df_full.groupBy(\"credit_limit_group\")\n",
    "    .agg((sum(\"n_offers_completed\") / sum(\"n_offers_received\")).alias(\"conversion_rate\"))\n",
    "    .orderBy(\"credit_limit_group\")\n",
    "    .toPandas()\n",
    ")"
   ]
  },
  {
   "cell_type": "code",
   "execution_count": 0,
   "metadata": {
    "application/vnd.databricks.v1+cell": {
     "cellMetadata": {
      "byteLimit": 2048000,
      "rowLimit": 10000
     },
     "inputWidgets": {},
     "nuid": "766b450f-c02f-472e-8d01-187d4a6288b0",
     "showTitle": false,
     "tableResultSettingsMap": {},
     "title": ""
    }
   },
   "outputs": [],
   "source": [
    "df_account_age.display()"
   ]
  },
  {
   "cell_type": "code",
   "execution_count": 0,
   "metadata": {
    "application/vnd.databricks.v1+cell": {
     "cellMetadata": {
      "byteLimit": 2048000,
      "rowLimit": 10000
     },
     "inputWidgets": {},
     "nuid": "2de084b3-f116-47de-a44e-b3632872465f",
     "showTitle": false,
     "tableResultSettingsMap": {},
     "title": ""
    }
   },
   "outputs": [],
   "source": [
    "fig, axes = plt.subplots(1, 2, figsize=(14, 5))\n",
    "\n",
    "# Plot 1: Conversion by age group\n",
    "sns.barplot(\n",
    "    data=df_age_group, x=\"age_group\", y=\"conversion_rate\", hue=\"offer_type\",\n",
    "    ax=axes[0], palette={\n",
    "                            \"bogo\": ifood_palette[\"light_pink\"],\n",
    "                            \"discount\": ifood_palette[\"coral\"],\n",
    "                            \"informational\": ifood_palette[\"ifood_red\"]\n",
    "    }\n",
    ")\n",
    "axes[0].set_title(\"Conversion Rate by Age Group\")\n",
    "axes[0].set_ylabel(\"Conversion Rate\")\n",
    "axes[0].set_xlabel(\"Age Group\")\n",
    "for container in axes[0].containers:\n",
    "    axes[0].bar_label(container, fmt='%.2f')\n",
    "\n",
    "# Plot 2: Conversion by credit limit group\n",
    "sns.barplot(\n",
    "    data=df_credit_group,\n",
    "    x=\"credit_limit_group\", y=\"conversion_rate\",\n",
    "    ax=axes[1], palette = [\n",
    "    ifood_palette[\"light_pink\"],\n",
    "    ifood_palette[\"mid_pink\"],\n",
    "    ifood_palette[\"pink\"],\n",
    "    ifood_palette[\"coral\"],\n",
    "    ifood_palette[\"ifood_red\"]\n",
    "]\n",
    ")\n",
    "axes[1].set_title(\"Conversion Rate by Credit Limit Group\")\n",
    "axes[1].set_ylabel(\"Conversion Rate\")\n",
    "axes[1].set_xlabel(\"Credit Limit Group\")\n",
    "for container in axes[1].containers:\n",
    "    axes[1].bar_label(container, fmt='%.2f')\n",
    "\n",
    "plt.tight_layout()\n",
    "plt.show()\n"
   ]
  },
  {
   "cell_type": "code",
   "execution_count": 0,
   "metadata": {
    "application/vnd.databricks.v1+cell": {
     "cellMetadata": {
      "byteLimit": 2048000,
      "rowLimit": 10000
     },
     "inputWidgets": {},
     "nuid": "6bae26e4-1366-490d-ba8a-ff27adc30e5d",
     "showTitle": false,
     "tableResultSettingsMap": {},
     "title": ""
    }
   },
   "outputs": [],
   "source": [
    "df_full = df_full.withColumn(\n",
    "    \"potential\",\n",
    "    when(col(\"n_offers_completed\")>0, 1)\n",
    "    .otherwise(0)\n",
    ")\n",
    "\n",
    "df_full = df_full.withColumn(\n",
    "    \"avg_amount\",\n",
    "    avg(when(col(\"amount\") > 0, col(\"amount\"))).over(customer_window)\n",
    ")\n",
    "\n",
    "\n",
    "df_full = df_full.withColumn(\n",
    "    \"spending_ratio\",\n",
    "    coalesce(expr(\"try_divide(avg_amount, min_value)\"), lit(0))\n",
    ")\n",
    "\n",
    "# spending_ratio > 1: user spends more than the minimum value — high chance of conversion.\n",
    "# spending_ratio < 1: user spends less than the minimum value — might not convert.\n",
    "# spending_ratio = 1: user spends is aligned with the offer’s minimum — borderline case.\n"
   ]
  },
  {
   "cell_type": "code",
   "execution_count": 0,
   "metadata": {
    "application/vnd.databricks.v1+cell": {
     "cellMetadata": {
      "byteLimit": 2048000,
      "rowLimit": 10000
     },
     "inputWidgets": {},
     "nuid": "e941431d-c220-4c96-b6fc-b20fa42462fc",
     "showTitle": false,
     "tableResultSettingsMap": {
      "0": {
       "dataGridStateBlob": null,
       "filterBlob": "{\"version\":1,\"filterGroups\":[{\"enabled\":true,\"filterGroupId\":\"fg_82571a9f\",\"op\":\"OR\",\"filters\":[{\"filterId\":\"f_2814b982\",\"enabled\":true,\"columnId\":\"conversion_rate\",\"dataType\":\"float\",\"filterType\":\"oneof\"}],\"local\":false,\"updatedAt\":1749599825105},{\"enabled\":true,\"filterGroupId\":\"fg_a0e53304\",\"op\":\"OR\",\"filters\":[{\"filterId\":\"f_c9f3c047\",\"enabled\":true,\"columnId\":\"avg_transaction\",\"dataType\":\"float\",\"filterType\":\"oneof\"}],\"local\":false,\"updatedAt\":1749599837755},{\"enabled\":true,\"filterGroupId\":\"fg_e3f6fdd6\",\"op\":\"OR\",\"filters\":[{\"filterId\":\"f_a29dff03\",\"enabled\":true,\"columnId\":\"engagement_score\",\"dataType\":\"float\",\"filterType\":\"oneof\"}],\"local\":false,\"updatedAt\":1749599850465},{\"enabled\":true,\"filterGroupId\":\"fg_fdc22b0e\",\"op\":\"OR\",\"filters\":[{\"filterId\":\"f_d9fdb7cd\",\"enabled\":true,\"columnId\":\"spending_ratio\",\"dataType\":\"float\",\"filterType\":\"oneof\"}],\"local\":false,\"updatedAt\":1749599879015}],\"syncTimestamp\":1749599879015}",
       "queryPlanFiltersBlob": "[]",
       "tableResultIndex": 0
      }
     },
     "title": ""
    }
   },
   "outputs": [],
   "source": [
    "df_full.display()"
   ]
  },
  {
   "cell_type": "code",
   "execution_count": 0,
   "metadata": {
    "application/vnd.databricks.v1+cell": {
     "cellMetadata": {
      "byteLimit": 2048000,
      "rowLimit": 10000
     },
     "inputWidgets": {},
     "nuid": "7e7c112b-1d68-4e35-9818-aa310416d6d6",
     "showTitle": false,
     "tableResultSettingsMap": {},
     "title": ""
    }
   },
   "outputs": [],
   "source": [
    "# Saving file \n",
    "spark.conf.set(\"spark.sql.ansi.enabled\", \"false\")\n",
    "\n",
    "(\n",
    "    df_full\n",
    "    .coalesce(1)                  \n",
    "    .write\n",
    "    .mode(\"overwrite\")\n",
    "    .json(\"/Volumes/workspace/default/data/full_dataset_processed.json\")\n",
    ")"
   ]
  },
  {
   "cell_type": "markdown",
   "metadata": {
    "application/vnd.databricks.v1+cell": {
     "cellMetadata": {
      "byteLimit": 2048000,
      "rowLimit": 10000
     },
     "inputWidgets": {},
     "nuid": "bf7c2c8e-ca43-44af-a629-e0f7b69f5a13",
     "showTitle": false,
     "tableResultSettingsMap": {},
     "title": ""
    }
   },
   "source": [
    "###  6. Preparing Training dataset"
   ]
  },
  {
   "cell_type": "code",
   "execution_count": 0,
   "metadata": {
    "application/vnd.databricks.v1+cell": {
     "cellMetadata": {
      "byteLimit": 2048000,
      "rowLimit": 10000
     },
     "inputWidgets": {},
     "nuid": "84a3b166-a5bf-425c-83b6-cb25130f3596",
     "showTitle": false,
     "tableResultSettingsMap": {},
     "title": ""
    }
   },
   "outputs": [],
   "source": [
    "#Exclude outlier_age = True\n",
    "df_full = df_full.filter(col(\"outlier_age\") == False)\n"
   ]
  },
  {
   "cell_type": "code",
   "execution_count": 0,
   "metadata": {
    "application/vnd.databricks.v1+cell": {
     "cellMetadata": {
      "byteLimit": 2048000,
      "rowLimit": 10000
     },
     "inputWidgets": {},
     "nuid": "65247fcb-6b25-4a39-ad10-8e1a78c68ad8",
     "showTitle": false,
     "tableResultSettingsMap": {},
     "title": ""
    }
   },
   "outputs": [],
   "source": [
    "df_full = df_full.withColumn(\n",
    "    \"offer_type\", \n",
    "    when(col(\"offer_type\") == \"informational\", 0)\n",
    "    .when(col(\"offer_type\") == \"bogo\", 1)\n",
    "    .when(col(\"offer_type\") == \"discount\", 2)\n",
    "    .otherwise(-1) \n",
    ").fillna(0)"
   ]
  },
  {
   "cell_type": "code",
   "execution_count": 0,
   "metadata": {
    "application/vnd.databricks.v1+cell": {
     "cellMetadata": {
      "byteLimit": 2048000,
      "rowLimit": 10000
     },
     "inputWidgets": {},
     "nuid": "9f2f6231-ee04-4774-ba7d-6c8a5458dd14",
     "showTitle": false,
     "tableResultSettingsMap": {},
     "title": ""
    }
   },
   "outputs": [],
   "source": [
    "selected_columns = [\n",
    "    \"account_id\", \"offer_id\", \"offer_type\", \"min_value\", \"discount_value\", \"duration\",\n",
    "    \"n_transactions\", \"n_offers_received\", \"n_offers_viewed\", \"n_offers_completed\", \"conversion_rate\", \"engagement_score\", \"potential\", \"avg_amount\", \"spending_ratio\"\n",
    "    , \"age\", \"credit_card_limit\"\n",
    "]"
   ]
  },
  {
   "cell_type": "code",
   "execution_count": 0,
   "metadata": {
    "application/vnd.databricks.v1+cell": {
     "cellMetadata": {
      "byteLimit": 2048000,
      "rowLimit": 10000
     },
     "inputWidgets": {},
     "nuid": "b88f4caf-1896-4352-95b1-9465356db678",
     "showTitle": false,
     "tableResultSettingsMap": {},
     "title": ""
    }
   },
   "outputs": [],
   "source": [
    "train_df = df_full.select(selected_columns)"
   ]
  },
  {
   "cell_type": "code",
   "execution_count": 0,
   "metadata": {
    "application/vnd.databricks.v1+cell": {
     "cellMetadata": {
      "byteLimit": 2048000,
      "rowLimit": 10000
     },
     "inputWidgets": {},
     "nuid": "98cbf655-b2e3-4426-84c7-2ba6369db7af",
     "showTitle": false,
     "tableResultSettingsMap": {},
     "title": ""
    }
   },
   "outputs": [],
   "source": [
    "train_df.write.mode(\"overwrite\").saveAsTable(\"train_df_json\")"
   ]
  },
  {
   "cell_type": "code",
   "execution_count": 0,
   "metadata": {
    "application/vnd.databricks.v1+cell": {
     "cellMetadata": {
      "byteLimit": 2048000,
      "rowLimit": 10000
     },
     "inputWidgets": {},
     "nuid": "03ec771c-9a5e-437f-b219-0dc2fec33b9c",
     "showTitle": false,
     "tableResultSettingsMap": {},
     "title": ""
    }
   },
   "outputs": [],
   "source": []
  }
 ],
 "metadata": {
  "application/vnd.databricks.v1+notebook": {
   "computePreferences": null,
   "dashboards": [],
   "environmentMetadata": null,
   "inputWidgetPreferences": null,
   "language": "python",
   "notebookMetadata": {
    "pythonIndentUnit": 4
   },
   "notebookName": "1_DataProcessing",
   "widgets": {}
  },
  "language_info": {
   "name": "python"
  }
 },
 "nbformat": 4,
 "nbformat_minor": 0
}
